{
 "cells": [
  {
   "cell_type": "markdown",
   "metadata": {},
   "source": [
    "# Highland Lakes Storm Inflow Predictive Model (Preliminary)\n",
    "\n",
    "_Tyler Carstensen_\n",
    "\n",
    "Diagrams Courtesy   \n",
    "_Lower Colorado River Authority_  \n",
    "_United States Geological Survey_  \n",
    "_Modified Scraping script from Nathan Hilbert (Oak Ridge National Laboratory)_\n",
    "\n",
    "---\n",
    "\n",
    "# Overview of the highland lakes system\n",
    "\n",
    "PICTURE OF LAKE TRAVIS   \n",
    "\n",
    "PICTURES OF DAMS  \n",
    "\n",
    "![highlandlakes](images/highlandlakes2008.jpg)\n",
    "![lakeprofile](images/lake_profile_no_data.png)\n",
    "\n",
    "\n",
    "---\n",
    "\n",
    "# May 2015 floods end the drought\n",
    "\n",
    "PICTURES OF FLOODED AUSTIN, WATER OVER LAMAR BRIDGE  (Intersting: Explain that this is JUST lady bird lake (or town lake for you austinites) flooding, which is a small lake. Upstream is lake austin, which has significantly more volume at a slightly higher elevation. Then lake travis, which has an exponentially higher volume at a much higher elevation, then buchanan which has a massive volume at a much higher elevation.\n",
    "\n",
    "Drought before/after pictures as seen on [Austin-American Statesmans Before and After Project](http://projects.statesman.com/news/lake-travis-levels/)\n",
    "\n",
    "## Lake Travis During Drought (2012)\n",
    "![RM620before](images/RM620before.png)\n",
    "\n",
    "## Lake Travis After Drought (2016)\n",
    "![RM620after](images/RM620after.png)\n",
    "\n",
    "\n",
    "\n",
    "\n",
    "Many people (including our politicans and leaders) have forgotton the original mission of the dams - **Flood control**  \n",
    "The drought is over and now flooding is a renewed threat. Lake capacity acts as a 'buffer' against massive storm inflows from the surrounding basin that would typically flood Austin and the surrounding area.  \n",
    "\n",
    "Prior to engineered flood control, Travis county and the surrounding area were flooded frequently. Initial attempts to dam the colorado river in the early 1900s failed - City of Austin construction two dams, but both were destroyed by floods.\n",
    "\n",
    "Massive national civil engineering efforts in the middle of the 20th century were reponsible for the commissioning of the existing series of dams. They were constructed during a decades-long effort starting in 1935 and ending in 1951. The construction involved redirecting rivers and reshaping the terrain to influence the natural watersheds.\n",
    "\n",
    "**It is critical to know how much the lakes are going to fill after a storm**\n",
    "\n",
    "---\n",
    "\n",
    "How does weather affect the lakes?  \n",
    "PICTURE OF WEATHER STATIONS  \n",
    "![stormrainflow](images/stormrainflowusgs.gif)\n",
    "\n",
    "\n",
    "USGS Streamflow post storm image (Shows time delay between water flow and storm, but also how it can overlap)\n",
    "    (area under the curve after rainfall ends is a good indicator of what's going to happen. May not even need to catch the exact end of the rainfall)\n",
    "PICTURE OF LAKE INFLOWS POST WEATHER EVENT  \n",
    "(Weather itself is almost impossible to predict. It's difficult to say which watersheds recieved the rainfall. Streamflow gauges can give us additional data on which watersheds the storm affected.)  \n",
    "\n",
    "---\n",
    "Watersheds\n",
    "PICTURE OF WATERSHEDS\n",
    "Explain watershed (if you dump your drink anywhere in watershed x, it will always flow to a single point. If the watershed is draiing, it will always move to the edge of the watershed. Of course there are 'local minima', or small watersheds within these large watersheds - but the overall basin should typically drain most water in the same direction.\n",
    "\n",
    "Water that falls north of highland lake watersheds goes to the brazos river. The Lower Brazos is not controlled.\n",
    "\n",
    "The watersheds vary greatly in size - Lake Buchanan takes the majority of the rainfall.\n",
    "\n",
    "---\n",
    "\n",
    "Historical lake levels  \n",
    "CHART OF LAKE LEVEL HISTORY  \n",
    "PICTURES OF LAKE TRAVIS LOW AND HIGH  \n",
    " \n",
    "\n",
    "\n",
    "---\n",
    "\n",
    "Civil Engineering Considerations on Dams  \n",
    "DIAGRAM OF DAM  \n",
    "Spillway to prevent structural damage  \n",
    "DAM FAILURE PICTURES  \n",
    "Austin flooding pictures\n",
    "\n",
    "---\n",
    "TYPICAL CIVIL ENGINEERING HYDROLOGY METHODS  "
   ]
  },
  {
   "cell_type": "markdown",
   "metadata": {},
   "source": [
    "## Model Structure\n",
    "\n",
    "#### _Model 1_  \n",
    "\n",
    "**Parameters**  \n",
    "* $h_{prior}$: Time window of precipitation prior to storm event (Hours)  \n",
    "* $h_{post}$: Time window after storm event (Hours)  \n",
    "* time_interval: Interval of time to slide the window, affects size of dataset (Hours)  \n",
    "* event_list: Specific chosen times to place the event window, if time_interval is not used (list of timestamps)  \n",
    "\n",
    "_Each feature will represent data for a specific time event. The windows will control the aggregated precipitation prior to the event and the aggregated lake inflows after the event. The events can be manually chosen (requires tediously reading precipitation logs) or chosen as arbitrary time intervals._    \n",
    "\n",
    "A smarter data analysis methodology would parse the features/responses and find the storm events and create a list of storm events. This would require additional work - but may be necessary if the model isn't working well.\n",
    "\n",
    "NOAA's NWS storm event lists - [NOAA's NWS storm event lists](http://www.spc.noaa.gov/climo/online/)    \n",
    "\n",
    "\n",
    "**Features**  \n",
    " * Rainfall in $h_{prior}$ at each chosen weather station  \n",
    " \n",
    " PICTURE OF AGGREGATING READINGS IN WEATHER STATION\n",
    " \n",
    " PICTURE OF WEATHER STATIONS (interesting: we don't care which watershed or lat/long of the stations. The machine learning algorithm should automatically fit coefficients to the features given the lake inflow response variable. It should group the weather stations by the affected watershed. Remember that rainfall on a single weather station may affect more than one watershed.)\n",
    " \n",
    "**Response Variable**  \n",
    " * Lake inflows at chosen lake in $h_{post}$ (cubic feet)  \n",
    " * BONUS Streamflow prediction (gonna be very hard...)  \n",
    "\n",
    "## Machine Learning Algorithms  \n",
    "\n",
    "**One model for each lake in the highland lakes chain**   \n",
    " * Linear Regression (multiple)  \n",
    "     * Regularization\n",
    "     * Forward-selection for collinear features\n",
    " * Randomforest (multiple)  \n",
    " \n",
    " * BONUS: Nueral Net. This would permit multiple response variables (all lakes) in one model. \n",
    "\n",
    "\n",
    "PAPER WILL BE A IPPYNB HTML FILE HOSTED ON GITHUB IO"
   ]
  },
  {
   "cell_type": "markdown",
   "metadata": {},
   "source": [
    "# Data Conditioning and Pipeline Steps\n",
    "\n",
    "\n",
    "\n",
    "### 1. Determine which sensors to use by hydromet map.\n",
    "![watersheds_precipitation_stations](images/watersheds_precipitation_sidebar.png)\n",
    "\n",
    " * Check availability of that sensor on [LCRA's Chronhist database](http://hydromet.lcra.org/chronhist.aspx)\n",
    "     * This is a *manual Labor* step that takes time due to the nature of the site\n",
    "     * The history site only allows you to pull 180 days of data at a time\n",
    "     * Used an old scraper from Oak Ridge National Laboratory as a framework to build my scraper"
   ]
  },
  {
   "cell_type": "code",
   "execution_count": null,
   "metadata": {
    "collapsed": true
   },
   "outputs": [],
   "source": [
    "# List of Sensors (Site Name, Site Number)\n",
    "\n",
    "# Inks, LBJ, Marble Falls and Austin are static pass-through lakes\n",
    "\n",
    "\n",
    "lakelevel_sites = [\n",
    "                   (\"Buchanan Dam\", 1995), #Lake Buchanan\n",
    "                   (\"Inks Dam\", 1999),\n",
    "                   (\"Lake LBJ at 2900 Bridge\", 2699),\n",
    "                   (\"Wirtz Dam\", 2958), #Lake LBJ\n",
    "                   (\"Starcke Dam\", 2999),\n",
    "                   (\"Mansfield Dam\", 3963), #Lake Travis\n",
    "                   (\"Tom Miller Dam\", 3999) #Lake Austin\n",
    "                  ]"
   ]
  },
  {
   "cell_type": "markdown",
   "metadata": {},
   "source": [
    "Each lake level site will be an independent model for lake inflows. They will share the same features, however."
   ]
  },
  {
   "cell_type": "markdown",
   "metadata": {},
   "source": [
    "# Web Scraping Code"
   ]
  },
  {
   "cell_type": "code",
   "execution_count": 71,
   "metadata": {
    "collapsed": true
   },
   "outputs": [],
   "source": [
    "import requests\n",
    "import numpy as np"
   ]
  },
  {
   "cell_type": "code",
   "execution_count": 2,
   "metadata": {
    "collapsed": true
   },
   "outputs": [],
   "source": [
    "r = requests.get('http://hydromet.lcra.org/chronhist.aspx')"
   ]
  },
  {
   "cell_type": "code",
   "execution_count": 8,
   "metadata": {},
   "outputs": [],
   "source": [
    "from bs4 import BeautifulSoup\n",
    "\n",
    "soup = BeautifulSoup(r.content, 'html.parser')"
   ]
  },
  {
   "cell_type": "code",
   "execution_count": 23,
   "metadata": {
    "collapsed": true
   },
   "outputs": [],
   "source": [
    "dl1 = soup.find(id='DropDownList1')"
   ]
  },
  {
   "cell_type": "code",
   "execution_count": 35,
   "metadata": {},
   "outputs": [],
   "source": [
    "allgauges = dl1.find_all(\"option\")"
   ]
  },
  {
   "cell_type": "code",
   "execution_count": 152,
   "metadata": {},
   "outputs": [],
   "source": [
    "gaugevalues = []\n",
    "gaugenames = []\n",
    "\n",
    "for gauge in allgauges:\n",
    "    gaugevalues.append(gauge.get('value'))\n",
    "    gaugenames.append(gauge.contents[0])\n",
    "\n",
    "    \n",
    "gaugemap = zip(gaugevalues, gaugenames)"
   ]
  },
  {
   "cell_type": "code",
   "execution_count": 154,
   "metadata": {
    "scrolled": true
   },
   "outputs": [
    {
     "data": {
      "text/plain": [
       "[(u'2992', u'Backbone Creek at Marble Falls'),\n",
       " (u'1187', u'Bangs 6 W'),\n",
       " (u'4520', u'Barton Creek at Loop 360, Austin'),\n",
       " (u'4519', u'Barton Creek at SH 71 near Oak Hill'),\n",
       " (u'2435', u'Beaver Creek near Mason'),\n",
       " (u'8860', u'Bellville 1 SW'),\n",
       " (u'3917', u'Bertram 8 SSW'),\n",
       " (u'5473', u'Big Sandy Creek near Elgin'),\n",
       " (u'3953', u'Big Sandy Creek near Jonestown'),\n",
       " (u'3350', u'Blanco 13 WNW'),\n",
       " (u'3448', u'Blanco 5 NNE'),\n",
       " (u'7817', u'Blanco River at Blanco'),\n",
       " (u'7853', u'Blanco River at Fischer Store Road'),\n",
       " (u'7893', u'Blanco River near Kyle'),\n",
       " (u'1387', u'Blanket 4 S'),\n",
       " (u'1687', u'Brady 11 E'),\n",
       " (u'1666', u'Brady Creek at Brady'),\n",
       " (u'1215', u'Brownwood 10 SSW'),\n",
       " (u'1373', u'Brownwood 4 SE'),\n",
       " (u'1995', u'Buchanan Dam'),\n",
       " (u'1994', u'Buchanan Dam 1 ENE'),\n",
       " (u'5608', u'Buckners Creek near Muldoon'),\n",
       " (u'3992', u'Bull Creek at Loop 360, Austin'),\n",
       " (u'1360', u'Burkett 9 S'),\n",
       " (u'3015', u'Burnet 1 WSW'),\n",
       " (u'1984', u'Burnet 5 NNW'),\n",
       " (u'3014', u'Burnet 6 SSE'),\n",
       " (u'2029', u'Burnet 6 WSW'),\n",
       " (u'5691', u'Carmine 1 SSW'),\n",
       " (u'2473', u'Castell 4 SSE'),\n",
       " (u'5520', u'Cedar Creek 3 WSW'),\n",
       " (u'5523', u'Cedar Creek below Bastrop'),\n",
       " (u'5521', u'Cedar Creek near Bastrop'),\n",
       " (u'3961', u'Cedar Park 3 SSW'),\n",
       " (u'1926', u'Cherokee 10 WNW'),\n",
       " (u'1928', u'Cherokee 2 NNW'),\n",
       " (u'1927', u'Cherokee 4 E'),\n",
       " (u'2634', u'Cherokee 4 SSE'),\n",
       " (u'1924', u'Cherokee 6 WSW'),\n",
       " (u'1922', u'Cherokee 8 NNE'),\n",
       " (u'1929', u'Cherokee Creek near Bend'),\n",
       " (u'2490', u'Cherry Spring 3 ENE'),\n",
       " (u'1307', u'Clyde 6 S'),\n",
       " (u'5599', u'Colorado River above La Grange'),\n",
       " (u'4558', u'Colorado River at Austin'),\n",
       " (u'5499', u'Colorado River at Bastrop'),\n",
       " (u'6599', u'Colorado River at Bay City'),\n",
       " (u'1925', u'Colorado River at Bend'),\n",
       " (u'6300', u'Colorado River at Columbus'),\n",
       " (u'6896', u'Colorado River at Matagorda'),\n",
       " (u'5476', u'Colorado River at Sim Gideon River Plant'),\n",
       " (u'5541', u'Colorado River at Smithville'),\n",
       " (u'6499', u'Colorado River at Wharton'),\n",
       " (u'1199', u'Colorado River at Winchell'),\n",
       " (u'6377', u'Colorado River near Altair'),\n",
       " (u'6475', u'Colorado River near Glen Flora'),\n",
       " (u'1277', u'Colorado River near Goldthwaite'),\n",
       " (u'6537', u'Colorado River near Lane City'),\n",
       " (u'1911', u'Colorado River near San Saba'),\n",
       " (u'5525', u'Colorado River near Upton'),\n",
       " (u'5450', u'Colorado River near Utley'),\n",
       " (u'5423', u'Colorado River near Webberville'),\n",
       " (u'2424', u'Comanche Creek near Mason'),\n",
       " (u'3920', u'Cow Creek near Lago Vista'),\n",
       " (u'1331', u'Cross Plains 6 WNW'),\n",
       " (u'5696', u'Cummins Creek near Frelsburg'),\n",
       " (u'3558', u'Cypress Creek near Cypress Mill'),\n",
       " (u'8870', u'Damon 1 NNW'),\n",
       " (u'2434', u'Doss 4 N'),\n",
       " (u'2436', u'Doss 8 W'),\n",
       " (u'4594', u'Driftwood 4 SSE'),\n",
       " (u'4517', u'Dripping Springs 4 NNE'),\n",
       " (u'4593', u'Dripping Springs 5 SSW'),\n",
       " (u'3528', u'Dripping Springs 8 W'),\n",
       " (u'5435', u'Dry Creek near Elroy'),\n",
       " (u'6621', u'Eagle Lake 7 NE'),\n",
       " (u'1616', u'Eden 3 S'),\n",
       " (u'7297', u'El Campo 15 WSW'),\n",
       " (u'7005', u'El Campo 2 NW'),\n",
       " (u'1405', u'Eldorado 2 E'),\n",
       " (u'5461', u'Elgin 8 NW'),\n",
       " (u'3529', u'Flat Creek near Pedernales Falls State Park'),\n",
       " (u'2998', u'Flat Rock Creek near Marble Falls'),\n",
       " (u'8830', u'Florence 3 SW'),\n",
       " (u'1453', u'Fort McKavett 6 NW'),\n",
       " (u'2847', u'Fredericksburg 10 NNE'),\n",
       " (u'3327', u'Fredericksburg 10 SSE'),\n",
       " (u'3268', u'Fredericksburg 10 WSW'),\n",
       " (u'2432', u'Fredericksburg 12 NW'),\n",
       " (u'3317', u'Fredericksburg 5 N'),\n",
       " (u'3285', u'Fredericksburg 9 SW'),\n",
       " (u'5590', u'Giddings 3 WSW'),\n",
       " (u'5417', u'Gilleland Creek near Manor'),\n",
       " (u'8820', u'Goldthwaite 10 ENE'),\n",
       " (u'1153', u'Gouldbusk 4 N'),\n",
       " (u'7324', u'Hallettsville 1 SSE'),\n",
       " (u'3018', u'Hamilton Creek near Marble Falls'),\n",
       " (u'2398', u'Harper 13 NW'),\n",
       " (u'3237', u'Harper 4 SSW'),\n",
       " (u'2397', u'Harper 6 NW'),\n",
       " (u'2433', u'Harper 8 NE'),\n",
       " (u'3258', u'Harper 8 SSE'),\n",
       " (u'2498', u'Hickory Creek near Castell'),\n",
       " (u'2694', u'Honey Creek near Kingsland'),\n",
       " (u'1359', u'Hords Creek Lake near Valera'),\n",
       " (u'8855', u'Industry 3 W'),\n",
       " (u'1999', u'Inks Dam'),\n",
       " (u'1997', u'Inks Lake at Hwy 29 Bridge'),\n",
       " (u'2399', u'James River near Mason'),\n",
       " (u'3520', u'Johnson City 10 E'),\n",
       " (u'3370', u'Johnson City 10 NNW'),\n",
       " (u'3377', u'Johnson City 4 NNW'),\n",
       " (u'3383', u'Johnson City 5 SSW'),\n",
       " (u'3557', u'Johnson City 9 NNE'),\n",
       " (u'2625', u'Johnson Creek near Llano'),\n",
       " (u'2313', u'Johnson Fork near Junction'),\n",
       " (u'3991', u'Jollyville 2 SW'),\n",
       " (u'2312', u'Junction 14 SE'),\n",
       " (u'2188', u'Junction 17 NW'),\n",
       " (u'2347', u'Junction 18 ENE'),\n",
       " (u'2991', u'Kingsland 6 ESE'),\n",
       " (u'2679', u'Kingsland 7 WNW'),\n",
       " (u'2874', u'Kingsland 9 WSW'),\n",
       " (u'5619', u'La Grange 5 NE'),\n",
       " (u'4543', u'Lady Bird Lake near Longhorn Dam'),\n",
       " (u'3949', u'Lago Vista 1 ESE'),\n",
       " (u'3990', u'Lake Austin at Bunny Run Farm'),\n",
       " (u'3974', u'Lake Austin at Cortana Shores'),\n",
       " (u'3967', u'Lake Austin at Quinlan Park'),\n",
       " (u'3965', u'Lake Austin below Mansfield Dam'),\n",
       " (u'5485', u'Lake Bastrop at Sim Gideon Power Plant'),\n",
       " (u'1361', u'Lake Brownwood near Brownwood'),\n",
       " (u'1972', u'Lake Buchanan at Cedar Point'),\n",
       " (u'1358', u'Lake Coleman near Novice'),\n",
       " (u'5634', u'Lake Fayette at Fayette Power Plant'),\n",
       " (u'2096', u'Lake LBJ at 1431 Bridge'),\n",
       " (u'2699', u'Lake LBJ at 2900 Bridge'),\n",
       " (u'2899', u'Lake LBJ at Sandy Harbor'),\n",
       " (u'3948', u'Lakeway 2 E'),\n",
       " (u'3582', u'Lakeway 6 W'),\n",
       " (u'1964', u'Lampasas 10 WSW'),\n",
       " (u'1949', u'Lampasas 11 WNW'),\n",
       " (u'1940', u'Lampasas 13 WNW'),\n",
       " (u'1357', u'Lawn 5 E'),\n",
       " (u'4500', u'LCRA Redbud Center'),\n",
       " (u'3951', u'Leander 5 W'),\n",
       " (u'2669', u'Little Llano River near Llano'),\n",
       " (u'2864', u'Llano 11 SSE'),\n",
       " (u'2843', u'Llano 13 SSW'),\n",
       " (u'2615', u'Llano 14 WNW'),\n",
       " (u'2491', u'Llano 19 SW'),\n",
       " (u'2614', u'Llano 19 WNW'),\n",
       " (u'2646', u'Llano 5 SSW'),\n",
       " (u'2651', u'Llano 6 SSE'),\n",
       " (u'2655', u'Llano 7 NNE'),\n",
       " (u'2621', u'Llano 9 NW'),\n",
       " (u'2641', u'Llano River at Llano'),\n",
       " (u'2640', u'Llano River at Llano City Dam'),\n",
       " (u'2306', u'Llano River near Junction'),\n",
       " (u'2431', u'Llano River near Mason'),\n",
       " (u'5519', u'Lockhart 6 NE'),\n",
       " (u'1169', u'Lohn 3 WSW'),\n",
       " (u'1921', u'Lometa 2 WNW'),\n",
       " (u'2328', u'London 12 SSE'),\n",
       " (u'4596', u'Manchaca 4 W'),\n",
       " (u'3963', u'Mansfield Dam'),\n",
       " (u'3964', u'Mansfield Dam 1 ENE'),\n",
       " (u'3009', u'Marble Falls 10 SSW'),\n",
       " (u'3918', u'Marble Falls 14 ESE'),\n",
       " (u'2959', u'Marble Falls 4 WSW'),\n",
       " (u'3028', u'Marble Falls 6 ENE'),\n",
       " (u'2441', u'Mason 10 NE'),\n",
       " (u'1540', u'Mason 13 WNW'),\n",
       " (u'2411', u'Mason 14 SSW'),\n",
       " (u'2476', u'Mason 15 ENE'),\n",
       " (u'1578', u'Mason 15 NNE'),\n",
       " (u'2367', u'Mason 15 W'),\n",
       " (u'2450', u'Mason 17 SE'),\n",
       " (u'2422', u'Mason 3 NNE'),\n",
       " (u'2391', u'Mason 7 WSW'),\n",
       " (u'6899', u'Matagorda 1 S'),\n",
       " (u'6985', u'Matagorda 7 SW'),\n",
       " (u'6990', u'Matagorda 8 SSW'),\n",
       " (u'6996', u'Matagorda 9 SW'),\n",
       " (u'1354', u'May 1 N'),\n",
       " (u'1648', u'Melvin 2 S'),\n",
       " (u'1646', u'Menard 11 NE'),\n",
       " (u'2348', u'Menard 12 SSE'),\n",
       " (u'1532', u'Menard 14 E'),\n",
       " (u'7040', u'Midfield'),\n",
       " (u'3491', u'Miller Creek near Johnson City'),\n",
       " (u'1090', u'Millersview 7 WSW'),\n",
       " (u'7303', u'Moulton 1 SSE'),\n",
       " (u'2310', u'Mountain Home 17 WNW'),\n",
       " (u'5604', u'Muldoon 6 WSW'),\n",
       " (u'1397', u'Mullin 5 NE'),\n",
       " (u'3369', u'North Grape Creek near Johnson City'),\n",
       " (u'2193', u'North Llano River near Junction'),\n",
       " (u'2171', u'North Llano River near Roosevelt'),\n",
       " (u'4595', u'Onion Creek at Buda'),\n",
       " (u'4598', u'Onion Creek at Hwy 183, Austin'),\n",
       " (u'1345', u'Pecan Bayou at Hwy 279'),\n",
       " (u'1390', u'Pecan Bayou near Mullin'),\n",
       " (u'3343', u'Pedernales River at LBJ Ranch near Stonewall'),\n",
       " (u'3299', u'Pedernales River near Fredericksburg'),\n",
       " (u'3385', u'Pedernales River near Johnson City'),\n",
       " (u'5415', u'Pflugerville 3 SSE'),\n",
       " (u'1236', u'Richland Springs 11 N'),\n",
       " (u'1253', u'Richland Springs 6 NE'),\n",
       " (u'1752', u'Richland Springs 6 WNW'),\n",
       " (u'1725', u'Richland Springs 7 S'),\n",
       " (u'1197', u'Rochelle 5 NNW'),\n",
       " (u'2248', u'Rocksprings 12 NE'),\n",
       " (u'2144', u'Roosevelt 10 WSW'),\n",
       " (u'5522', u'Rosanky 1 W'),\n",
       " (u'2889', u'Round Mountain 11 WNW'),\n",
       " (u'2928', u'Round Mountain 6 WNW'),\n",
       " (u'6637', u'San Bernard River at East Bernard'),\n",
       " (u'2616', u'San Fernando Creek near Llano'),\n",
       " (u'1936', u'San Saba 15 ESE'),\n",
       " (u'1707', u'San Saba 15 SW'),\n",
       " (u'1777', u'San Saba 6 S'),\n",
       " (u'1915', u'San Saba 8 ESE'),\n",
       " (u'1742', u'San Saba 8 W'),\n",
       " (u'1499', u'San Saba River at Menard'),\n",
       " (u'1769', u'San Saba River at San Saba'),\n",
       " (u'1563', u'San Saba River near Brady'),\n",
       " (u'2878', u'Sandy Creek near Click'),\n",
       " (u'2891', u'Sandy Creek near Kingsland'),\n",
       " (u'2851', u'Sandy Creek near Willow City'),\n",
       " (u'6790', u'Sargent 1 ENE'),\n",
       " (u'2140', u'Sonora 14 SE'),\n",
       " (u'1455', u'Sonora 17 ENE'),\n",
       " (u'3328', u'South Grape Creek near Luckenbach'),\n",
       " (u'2268', u'South Llano River at Telegraph'),\n",
       " (u'3064', u'Spicewood 2 NNE'),\n",
       " (u'3576', u'Spicewood 4 S'),\n",
       " (u'3035', u'Spicewood 5 WNW'),\n",
       " (u'2999', u'Starcke Dam'),\n",
       " (u'3368', u'Stonewall 7 NNE'),\n",
       " (u'2260', u'Telegraph 5 SW'),\n",
       " (u'2168', u'Telegraph 9 NW'),\n",
       " (u'8840', u'Thorndale 3 SSE'),\n",
       " (u'3999', u'Tom Miller Dam'),\n",
       " (u'1983', u'Tow 10 ESE'),\n",
       " (u'1966', u'Tow 10 NNW'),\n",
       " (u'1981', u'Tow 11 ENE'),\n",
       " (u'1945', u'Tow 11 N'),\n",
       " (u'1982', u'Tow 5 SSW'),\n",
       " (u'2668', u'Tow 5 W'),\n",
       " (u'1950', u'Tow 9 NNE'),\n",
       " (u'4561', u'Walnut Creek at Webberville Road, Austin'),\n",
       " (u'2897', u'Walnut Creek near Kingsland'),\n",
       " (u'5524', u'Walnut Creek near Rockne'),\n",
       " (u'7225', u'Weimar 7 S'),\n",
       " (u'5464', u'Wilbarger Creek near Elgin'),\n",
       " (u'2869', u'Willow City 10 NNE'),\n",
       " (u'3365', u'Willow City 3 NNW'),\n",
       " (u'2868', u'Willow City 6 ENE'),\n",
       " (u'3330', u'Willow City 6 SSW'),\n",
       " (u'2849', u'Willow City 9 NW'),\n",
       " (u'2443', u'Willow Creek near Mason'),\n",
       " (u'2958', u'Wirtz Dam')]"
      ]
     },
     "execution_count": 154,
     "metadata": {},
     "output_type": "execute_result"
    }
   ],
   "source": [
    "gaugemap"
   ]
  },
  {
   "cell_type": "code",
   "execution_count": 146,
   "metadata": {
    "collapsed": true
   },
   "outputs": [],
   "source": [
    "import selenium\n",
    "from selenium import webdriver\n",
    "from selenium.webdriver.common.keys import Keys\n",
    "from time import sleep\n",
    "from selenium.webdriver.support.ui import Select\n",
    "import pandas as pd"
   ]
  },
  {
   "cell_type": "code",
   "execution_count": 149,
   "metadata": {},
   "outputs": [
    {
     "data": {
      "text/html": [
       "<div>\n",
       "<style>\n",
       "    .dataframe thead tr:only-child th {\n",
       "        text-align: right;\n",
       "    }\n",
       "\n",
       "    .dataframe thead th {\n",
       "        text-align: left;\n",
       "    }\n",
       "\n",
       "    .dataframe tbody tr th {\n",
       "        vertical-align: top;\n",
       "    }\n",
       "</style>\n",
       "<table border=\"1\" class=\"dataframe\">\n",
       "  <thead>\n",
       "    <tr style=\"text-align: right;\">\n",
       "      <th></th>\n",
       "      <th>gauge_values</th>\n",
       "    </tr>\n",
       "  </thead>\n",
       "  <tbody>\n",
       "    <tr>\n",
       "      <th>0</th>\n",
       "      <td>2992</td>\n",
       "    </tr>\n",
       "    <tr>\n",
       "      <th>1</th>\n",
       "      <td>1187</td>\n",
       "    </tr>\n",
       "    <tr>\n",
       "      <th>2</th>\n",
       "      <td>4520</td>\n",
       "    </tr>\n",
       "    <tr>\n",
       "      <th>3</th>\n",
       "      <td>4519</td>\n",
       "    </tr>\n",
       "    <tr>\n",
       "      <th>4</th>\n",
       "      <td>2435</td>\n",
       "    </tr>\n",
       "  </tbody>\n",
       "</table>\n",
       "</div>"
      ],
      "text/plain": [
       "  gauge_values\n",
       "0         2992\n",
       "1         1187\n",
       "2         4520\n",
       "3         4519\n",
       "4         2435"
      ]
     },
     "execution_count": 149,
     "metadata": {},
     "output_type": "execute_result"
    }
   ],
   "source": [
    "newdf = pd.DataFrame()\n",
    "newdf.head()\n",
    "# Need time as index, gauge"
   ]
  },
  {
   "cell_type": "code",
   "execution_count": 143,
   "metadata": {},
   "outputs": [
    {
     "name": "stdout",
     "output_type": "stream",
     "text": [
      "Gauge Value: 2992\n"
     ]
    },
    {
     "ename": "KeyboardInterrupt",
     "evalue": "",
     "output_type": "error",
     "traceback": [
      "\u001b[0;31m----------------------------------------------------------------\u001b[0m",
      "\u001b[0;31mKeyboardInterrupt\u001b[0m              Traceback (most recent call last)",
      "\u001b[0;32m<ipython-input-143-7a4b84bb0057>\u001b[0m in \u001b[0;36m<module>\u001b[0;34m()\u001b[0m\n\u001b[1;32m     12\u001b[0m     \u001b[0;32mfor\u001b[0m \u001b[0moption\u001b[0m \u001b[0;32min\u001b[0m \u001b[0msensor_options\u001b[0m\u001b[0;34m:\u001b[0m\u001b[0;34m\u001b[0m\u001b[0m\n\u001b[1;32m     13\u001b[0m         \u001b[0moption\u001b[0m\u001b[0;34m.\u001b[0m\u001b[0mclick\u001b[0m\u001b[0;34m(\u001b[0m\u001b[0;34m)\u001b[0m\u001b[0;34m\u001b[0m\u001b[0m\n\u001b[0;32m---> 14\u001b[0;31m         \u001b[0msleep\u001b[0m\u001b[0;34m(\u001b[0m\u001b[0;36m3\u001b[0m\u001b[0;34m)\u001b[0m\u001b[0;34m\u001b[0m\u001b[0m\n\u001b[0m\u001b[1;32m     15\u001b[0m \u001b[0;34m\u001b[0m\u001b[0m\n",
      "\u001b[0;31mKeyboardInterrupt\u001b[0m: "
     ]
    }
   ],
   "source": [
    "driver = webdriver.Chrome()\n",
    "\n",
    "for gaugevalue, gaugename in zip(gaugevalues, gaugenames):\n",
    "    driver.get(\"http://hydromet.lcra.org/chronhist.aspx\")\n",
    "    select = Select(driver.find_element_by_name('DropDownList1'))\n",
    "    select.select_by_value(gaugevalue)\n",
    "    print \"Gauge Value: {}\".format(gaugevalue)\n",
    "    \n",
    "    # Get the new options for sensors\n",
    "    select_sensor = Select(driver.find_element_by_name('DropDownList2'))\n",
    "    sensor_options = select_sensor.options\n",
    "    \n",
    "    for option in sensor_options:\n",
    "        option.click()\n",
    "        sensor_value = option.get_attribute(\"value\")\n",
    "        sensor_name = option.text\n",
    "        print \"Sensor Value: {}\\t\\t Sensor Name: {}\".format(sensor_value, sensor_name)\n",
    "        sleep(3)\n",
    "    \n",
    "    \n",
    "    \n",
    "    \n",
    "    # Will store data in dataframes based on sensor type, by gauge\n",
    "        sensormap = zip(sensor_value, sensor_name)\n",
    "        \n",
    "        \n",
    "# WHEN FINISHED, TRY BREAKING INTO SUBFUNCTIONS"
   ]
  },
  {
   "cell_type": "code",
   "execution_count": null,
   "metadata": {
    "collapsed": true
   },
   "outputs": [],
   "source": []
  },
  {
   "cell_type": "code",
   "execution_count": null,
   "metadata": {
    "collapsed": true
   },
   "outputs": [],
   "source": [
    "sensormap = set(sensormap)\n",
    "sensormap = list(sensormap)"
   ]
  },
  {
   "cell_type": "code",
   "execution_count": 93,
   "metadata": {},
   "outputs": [
    {
     "data": {
      "text/plain": [
       "[]"
      ]
     },
     "execution_count": 93,
     "metadata": {},
     "output_type": "execute_result"
    }
   ],
   "source": [
    "gauge_drop_down.find_elements_by_tag_name(\"DropDownList1\")"
   ]
  },
  {
   "cell_type": "code",
   "execution_count": null,
   "metadata": {
    "collapsed": true
   },
   "outputs": [],
   "source": [
    "driver = webdriver.Chrome()\n",
    "driver.get(\"http://hydromet.lcra.org/chronhist.aspx\")\n",
    "select = Select(driver.find_element_by_name('DropDownList1'))\n",
    "options = select.options\n",
    "firstoption = options[0]"
   ]
  },
  {
   "cell_type": "code",
   "execution_count": 151,
   "metadata": {},
   "outputs": [
    {
     "data": {
      "text/plain": [
       "u'Backbone Creek at Marble Falls'"
      ]
     },
     "execution_count": 151,
     "metadata": {},
     "output_type": "execute_result"
    }
   ],
   "source": [
    "firstoption.text # name of element"
   ]
  },
  {
   "cell_type": "markdown",
   "metadata": {},
   "source": [
    "NEXT STEP: verify all stations on chronhist\n",
    "\n"
   ]
  },
  {
   "cell_type": "markdown",
   "metadata": {},
   "source": [
    "EDA: Draw storm curves (rain vs lake levels or streamflow) after scraping data\n",
    "\n",
    "Models: Try a model that discards non-precipitation events. Also try a model that includes precipitation events.\n",
    "\n",
    "Try a model for lake level delta, and also for raw lake level"
   ]
  },
  {
   "cell_type": "markdown",
   "metadata": {},
   "source": [
    "# HOST DATASET ON KAGGLE TO OPTIMIZE ML?"
   ]
  }
 ],
 "metadata": {
  "anaconda-cloud": {},
  "kernelspec": {
   "display_name": "Python [conda root]",
   "language": "python",
   "name": "conda-root-py"
  },
  "language_info": {
   "codemirror_mode": {
    "name": "ipython",
    "version": 2
   },
   "file_extension": ".py",
   "mimetype": "text/x-python",
   "name": "python",
   "nbconvert_exporter": "python",
   "pygments_lexer": "ipython2",
   "version": "2.7.13"
  }
 },
 "nbformat": 4,
 "nbformat_minor": 2
}
